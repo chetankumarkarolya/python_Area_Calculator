{
 "cells": [
  {
   "cell_type": "code",
   "execution_count": 1,
   "id": "5760c8fb-0914-4c6f-87b1-855a966b2834",
   "metadata": {
    "tags": []
   },
   "outputs": [
    {
     "name": "stdout",
     "output_type": "stream",
     "text": [
      "**** AREA CALCULATOR ****\n",
      "\n",
      "    Press 1 to get the area of Square\n",
      "    Press 2 to get the area of Rectangle\n",
      "    Press 3 to get the area of Circle\n",
      "    Press 4 to get the area of Triangle\n"
     ]
    },
    {
     "name": "stdin",
     "output_type": "stream",
     "text": [
      "Enter a number between 1-4:  1\n",
      "Enter the side of the square:  4\n"
     ]
    },
    {
     "name": "stdout",
     "output_type": "stream",
     "text": [
      "Area of Square = 16.0\n"
     ]
    },
    {
     "name": "stdin",
     "output_type": "stream",
     "text": [
      "Do you want to try again with Square? (yes/no):  no\n",
      "Do you want to go back to the main menu? (yes/no):  no\n"
     ]
    },
    {
     "name": "stdout",
     "output_type": "stream",
     "text": [
      "Thanks for using Area Calculator!\n"
     ]
    }
   ],
   "source": [
    "print(\"**** AREA CALCULATOR ****\")\n",
    "\n",
    "while True:\n",
    "    print(\"\"\"\n",
    "    Press 1 to get the area of Square\n",
    "    Press 2 to get the area of Rectangle\n",
    "    Press 3 to get the area of Circle\n",
    "    Press 4 to get the area of Triangle\"\"\")\n",
    "\n",
    "    choice = int(input(\"Enter a number between 1-4: \"))\n",
    "\n",
    "    if choice == 1:\n",
    "        while True:\n",
    "            side = float(input(\"Enter the side of the square: \"))\n",
    "            print(\"Area of Square =\", side * side)\n",
    "            repeat = input(\"Do you want to try again with Square? (yes/no): \")\n",
    "            if repeat.lower() == \"no\":\n",
    "                break\n",
    "\n",
    "    elif choice == 2:\n",
    "        while True:\n",
    "            length = float(input(\"Enter the length: \"))\n",
    "            width = float(input(\"Enter the width: \"))\n",
    "            print(\"Area of Rectangle =\", length * width)\n",
    "            repeat = input(\"Do you want to try again with Rectangle? (yes/no): \")\n",
    "            if repeat.lower() == \"no\":\n",
    "                break\n",
    "\n",
    "    elif choice == 3:\n",
    "        while True:\n",
    "            radius = float(input(\"Enter the radius: \"))\n",
    "            print(\"Area of Circle =\", (22/7) * radius ** 2)\n",
    "            repeat = input(\"Do you want to try again with Circle? (yes/no): \")\n",
    "            if repeat.lower() == \"no\":\n",
    "                break\n",
    "\n",
    "    elif choice == 4:\n",
    "        while True:\n",
    "            base = float(input(\"Enter the base: \"))\n",
    "            height = float(input(\"Enter the height: \"))\n",
    "            print(\"Area of Triangle =\", 0.5 * base * height)\n",
    "            repeat = input(\"Do you want to try again with Triangle? (yes/no): \")\n",
    "            if repeat.lower() == \"no\":\n",
    "                break\n",
    "    else:\n",
    "        print(\"Invalid choice! Please enter a number from 1 to 4.\")\n",
    "\n",
    "    repeat1 = input(\"Do you want to go back to the main menu? (yes/no): \")\n",
    "    if repeat1.lower() == \"no\":\n",
    "        print(\"Thanks for using Area Calculator!\")\n",
    "        break"
   ]
  },
  {
   "cell_type": "code",
   "execution_count": null,
   "id": "a00bfa07-13c5-4694-b207-859611f70355",
   "metadata": {},
   "outputs": [],
   "source": []
  }
 ],
 "metadata": {
  "kernelspec": {
   "display_name": "Python 3 (ipykernel)",
   "language": "python",
   "name": "python3"
  },
  "language_info": {
   "codemirror_mode": {
    "name": "ipython",
    "version": 3
   },
   "file_extension": ".py",
   "mimetype": "text/x-python",
   "name": "python",
   "nbconvert_exporter": "python",
   "pygments_lexer": "ipython3",
   "version": "3.11.5"
  }
 },
 "nbformat": 4,
 "nbformat_minor": 5
}
